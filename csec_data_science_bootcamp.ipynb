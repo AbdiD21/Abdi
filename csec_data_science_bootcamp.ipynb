{
  "nbformat": 4,
  "nbformat_minor": 0,
  "metadata": {
    "colab": {
      "provenance": [],
      "authorship_tag": "ABX9TyNAXzfWeKypGRyaJs351bwO",
      "include_colab_link": true
    },
    "kernelspec": {
      "name": "python3",
      "display_name": "Python 3"
    },
    "language_info": {
      "name": "python"
    }
  },
  "cells": [
    {
      "cell_type": "markdown",
      "metadata": {
        "id": "view-in-github",
        "colab_type": "text"
      },
      "source": [
        "<a href=\"https://colab.research.google.com/github/AbdiD21/Abdi/blob/main/csec_data_science_bootcamp.ipynb\" target=\"_parent\"><img src=\"https://colab.research.google.com/assets/colab-badge.svg\" alt=\"Open In Colab\"/></a>"
      ]
    },
    {
      "cell_type": "markdown",
      "source": [],
      "metadata": {
        "id": "-bz9TwjEiM-W"
      }
    },
    {
      "cell_type": "markdown",
      "source": [
        "1. # CSEC Data Science Bootcamp: Shortlist Task Submission"
      ],
      "metadata": {
        "id": "ngTFBsdmiPYa"
      }
    },
    {
      "cell_type": "markdown",
      "source": [
        "## Section 1 Python + Data Familiarity\n",
        "\n",
        "**### 1. Difference Between a List, a Dictionary, and a NumPy Array**"
      ],
      "metadata": {
        "id": "S9ZIkcg9iUvl"
      }
    },
    {
      "cell_type": "markdown",
      "source": [
        "### ***List***\n",
        "*A list is a collection of ordered, mutable, and heterogeneous items (i.e., it can store elements of different data types).*\n",
        "\n",
        "key features of list:\n",
        "\n",
        "    - Allows duplicates.\n",
        "    - Items are accessed using indices.\n",
        "    - Can store mixed data types (e.g.,integers, strings, other lists).\n",
        "    - Flexible but slower for numerical computations compared to NumPy arrays.\n"
      ],
      "metadata": {
        "id": "-antSe_wixDJ"
      }
    },
    {
      "cell_type": "code",
      "source": [
        "my_list = [1, \"apple\", 3.14, True]\n",
        "print(my_list)  # Output: [1, 'apple', 3.14, True]\n"
      ],
      "metadata": {
        "id": "BCge9QHVkyeB"
      },
      "execution_count": null,
      "outputs": []
    },
    {
      "cell_type": "markdown",
      "source": [
        "### ***Dictionary***\n",
        "*A dictionary is a collection of unordered, mutable key-value pairs where keys must be unique.*\n",
        "\n",
        "Key features of list\n",
        "\n",
        "\n",
        "    - Keys act as unique identifiers for values.\n",
        "    - Values can be of any data type.\n",
        "    - Used for fast lookups and associations.\n",
        "\n"
      ],
      "metadata": {
        "id": "DuDf6Ys_k4Xl"
      }
    },
    {
      "cell_type": "code",
      "source": [
        "my_dict = {\"name\": \"Alice\", \"age\": 25, \"is_student\": True}\n",
        "print(my_dict)  # Output: {'name': 'Alice', 'age': 25, 'is_student': True}\n"
      ],
      "metadata": {
        "id": "VBlPgmrLlfdD"
      },
      "execution_count": null,
      "outputs": []
    },
    {
      "cell_type": "markdown",
      "source": [
        "### NumPy **Array**\n",
        "A NumPy array is a homogeneous, multidimensional array used primarily for numerical computations.\n",
        "\n",
        "***The NumPy array is similar to a list, but with added benefits such as being faster and more memory efficient.***\n",
        "\n",
        "Key features of A NumPy array are:\n",
        "\n",
        "    - Faster than lists for numerical operations.\n",
        "\n",
        "    - Requires all elements to be of the same data type.\n",
        "\n",
        "    - Supports advanced mathematical operations and broadcasting.\n"
      ],
      "metadata": {
        "id": "lGHaOuvAliNq"
      }
    },
    {
      "cell_type": "markdown",
      "source": [],
      "metadata": {
        "id": "yXQcgEC9mKJ-"
      }
    },
    {
      "cell_type": "code",
      "source": [
        "import numpy as np\n",
        "my_array = np.array([1, 2, 3, 4])\n",
        "print(my_array)  # Output: [1 2 3 4]\n"
      ],
      "metadata": {
        "id": "gXNQaUSRmKwa"
      },
      "execution_count": null,
      "outputs": []
    },
    {
      "cell_type": "markdown",
      "source": [
        "### 2. Given the list [10, 15, 20, 25, 30], write a function that returns the square of only even numbers."
      ],
      "metadata": {
        "id": "mcyuXYPHnOLZ"
      }
    },
    {
      "cell_type": "code",
      "source": [
        "def square_of_evens(numbers):\n",
        "  for x in numbers:\n",
        "    if x % 2 == 0:\n",
        "      print(x**2)\n",
        "\n",
        "numbers = [10, 15, 20, 25, 30]\n",
        "\n",
        "result = square_of_evens(numbers)\n",
        "\n",
        "print(result)  # Output: [100, 400, 900]\n"
      ],
      "metadata": {
        "colab": {
          "base_uri": "https://localhost:8080/"
        },
        "id": "A5-VFSZuoVJQ",
        "outputId": "22c8b4d0-a8b2-4901-da61-ceb96443aeee"
      },
      "execution_count": null,
      "outputs": [
        {
          "output_type": "stream",
          "name": "stdout",
          "text": [
            "100\n",
            "400\n",
            "900\n",
            "None\n"
          ]
        }
      ]
    },
    {
      "cell_type": "markdown",
      "source": [
        "### 3. What does the following code output, and why?"
      ],
      "metadata": {
        "id": "-iuePLGupsZn"
      }
    },
    {
      "cell_type": "code",
      "source": [
        "x =[1,2,3]\n",
        "y = x\n",
        "y.append(4)\n",
        "print(x)     # output: [1,2,3,4]"
      ],
      "metadata": {
        "colab": {
          "base_uri": "https://localhost:8080/"
        },
        "id": "JwBYTPUcp8xj",
        "outputId": "2d845d06-0e7e-4677-cdb7-6183065f021d"
      },
      "execution_count": null,
      "outputs": [
        {
          "output_type": "stream",
          "name": "stdout",
          "text": [
            "[1, 2, 3, 4]\n"
          ]
        }
      ]
    },
    {
      "cell_type": "markdown",
      "source": [
        "why?\n",
        "\n",
        "* x = [1, 2, 3]: This creates a list and assigns it to the variable x.\n",
        "\n",
        "* y = x: This doesn't make a copy of the list—it makes y refer to the same list object in memory as x.\n",
        "\n",
        "* y.append(4): This modifies the list that both x and y refer to, by adding 4 to the end.\n",
        "\n",
        "* print(x): Since x and y point to the same list, the change is reflected in x too."
      ],
      "metadata": {
        "id": "xoXHrSFeqUvS"
      }
    },
    {
      "cell_type": "markdown",
      "source": [],
      "metadata": {
        "id": "dcWnODwOqIlC"
      }
    },
    {
      "cell_type": "markdown",
      "source": [
        "### 4. What does .shape and .describe() tell you about a pandas DataFrame? Show using an example."
      ],
      "metadata": {
        "id": "D6kFb-Utrl53"
      }
    },
    {
      "cell_type": "markdown",
      "source": [
        "### ***.shape***\n",
        "\n",
        "    Returns a tuple representing the dimensions of the DataFrame:\n",
        "    (number of rows, number of columns)\n",
        "\n",
        "### ***.describe()***\n",
        "\n",
        "    Generates summary statistics of the DataFrame for numeric columns by default:\n",
        "\n",
        "        count, mean, std (standard deviation), min, 25% (Q1), 50% (median), 75% (Q3), and max.\n"
      ],
      "metadata": {
        "id": "fzlnw30yr-ay"
      }
    },
    {
      "cell_type": "code",
      "source": [
        "import pandas as pd\n",
        "\n",
        "# Sample DataFrame\n",
        "data = {\n",
        "    'Age': [25, 30, 35, 40, 45],\n",
        "    'Salary': [50000, 60000, 70000, 80000, 90000]\n",
        "}\n",
        "df = pd.DataFrame(data)\n",
        "\n",
        "print(\"Shape of DataFrame:\", df.shape)\n",
        "print(\"\\nDescription of DataFrame:\")\n",
        "print(df.describe())\n"
      ],
      "metadata": {
        "id": "Cfnsnh-4sY3l"
      },
      "execution_count": null,
      "outputs": []
    },
    {
      "cell_type": "markdown",
      "source": [
        "### ***5. From the given CSV***\n",
        "\n",
        "    5.1 Print the first 5 rows\n",
        "    5.2 What do you notice about the data?"
      ],
      "metadata": {
        "id": "Bs-qRaTktVKh"
      }
    },
    {
      "cell_type": "code",
      "source": [
        "from google.colab import files\n",
        "uploaded = files.upload()\n",
        "print(uploaded)\n"
      ],
      "metadata": {
        "id": "4IRqw4aXtuIz"
      },
      "execution_count": null,
      "outputs": []
    },
    {
      "cell_type": "code",
      "source": [
        "import pandas as pd\n",
        "\n",
        "# If you uploaded the CSV file\n",
        "df = pd.read_csv('airtravel.csv')\n",
        "print(df.head())\n",
        "\n"
      ],
      "metadata": {
        "colab": {
          "base_uri": "https://localhost:8080/"
        },
        "id": "GW61x38s0ytQ",
        "outputId": "2f3d8993-2c00-4ef5-e029-721bee27df87"
      },
      "execution_count": null,
      "outputs": [
        {
          "output_type": "stream",
          "name": "stdout",
          "text": [
            "  Month   \"1958\"   \"1959\"   \"1960\"\n",
            "0   JAN      340      360      417\n",
            "1   FEB      318      342      391\n",
            "2   MAR      362      406      419\n",
            "3   APR      348      396      461\n",
            "4   MAY      363      420      472\n"
          ]
        }
      ]
    },
    {
      "cell_type": "markdown",
      "source": [
        "5.2 What do you notice about the data?\n",
        "\n",
        "    Time series data: Rows = months; Columns = years (1958, 1959, 1960).\n",
        "\n",
        "    Monthly airline passenger counts (in thousands).\n",
        "\n",
        "    Growth over time:\n",
        "\n",
        "        The number of passengers is increasing each year.\n",
        "\n",
        "        For example, July:\n",
        "\n",
        "            1958: 491\n",
        "\n",
        "            1959: 548\n",
        "\n",
        "            1960: 622\n",
        "\n",
        "    Seasonality:\n",
        "\n",
        "        Peaks in summer months (e.g., July, August).\n",
        "\n",
        "        Lows in winter months (e.g., February, November).\n",
        "\n",
        "    Clean dataset:\n",
        "\n",
        "        No missing values in the screenshot.\n",
        "\n",
        "        Ideal for time series analysis or visualization."
      ],
      "metadata": {
        "id": "tS7UOVv51ek_"
      }
    },
    {
      "cell_type": "markdown",
      "source": [
        "### 6. Load the CSV from Q5 and find:\n",
        "\n",
        "     6.1 The month with the highest total passengers\n",
        "     6.2 The month with the lowest in 1958"
      ],
      "metadata": {
        "id": "td_NQx-f17uP"
      }
    },
    {
      "cell_type": "markdown",
      "source": [
        "6.1 What is the month with the highest total passengers (from 1958 to 1960)?"
      ],
      "metadata": {
        "id": "4ufG_r7_3DuN"
      }
    },
    {
      "cell_type": "markdown",
      "source": [
        "**Answer**\n",
        "\n",
        "    Highest total passengers: JUL (491 + 548 + 622 = 1661)"
      ],
      "metadata": {
        "id": "PX6JoiEs4Zx2"
      }
    },
    {
      "cell_type": "markdown",
      "source": [
        " 6.2 The month with the lowest in 1958\n"
      ],
      "metadata": {
        "id": "7IAiAnx14f7f"
      }
    },
    {
      "cell_type": "markdown",
      "source": [
        "**Answer**\n",
        "\n",
        "    Lowest in 1958: FEB (318)"
      ],
      "metadata": {
        "id": "MJ1Utxpn5AUy"
      }
    },
    {
      "cell_type": "markdown",
      "source": [
        "### **7.  What does the .groupby() function do in pandas? Show an example using dummy data.**"
      ],
      "metadata": {
        "id": "lD4kLuOR5pOV"
      }
    },
    {
      "cell_type": "markdown",
      "source": [
        "*What does .groupby() do in Pandas?*\n",
        "\n",
        "    The .groupby() function in pandas is used to group rows of data based on the values in one or more columns, and then perform aggregations (like sum, mean, count, etc.) on those groups."
      ],
      "metadata": {
        "id": "FNqdc_2P5nBu"
      }
    },
    {
      "cell_type": "code",
      "source": [
        "# Example using dummy data\n",
        "\n",
        "import pandas as pd\n",
        "\n",
        "# Create dummy data\n",
        "data = {\n",
        "    'Employee': ['Alice', 'Bob', 'Alice', 'Bob', 'Charlie', 'Alice'],\n",
        "    'Region': ['East', 'East', 'West', 'West', 'East', 'East'],\n",
        "    'Sales': [250, 300, 200, 500, 150, 400]\n",
        "}\n",
        "\n",
        "df = pd.DataFrame(data)\n",
        "print(df)\n"
      ],
      "metadata": {
        "colab": {
          "base_uri": "https://localhost:8080/"
        },
        "id": "-yla7JwJ569B",
        "outputId": "f1f0216f-101e-4275-b656-3c1ce3c87387"
      },
      "execution_count": null,
      "outputs": [
        {
          "output_type": "stream",
          "name": "stdout",
          "text": [
            "  Employee Region  Sales\n",
            "0    Alice   East    250\n",
            "1      Bob   East    300\n",
            "2    Alice   West    200\n",
            "3      Bob   West    500\n",
            "4  Charlie   East    150\n",
            "5    Alice   East    400\n"
          ]
        }
      ]
    },
    {
      "cell_type": "markdown",
      "source": [
        "### **8. Load the Titanic dataset from seaborn and:**\n",
        "Count how many missing values are in each column  "
      ],
      "metadata": {
        "id": "ycrO2rz86J_V"
      }
    },
    {
      "cell_type": "code",
      "source": [
        "import seaborn as sns\n",
        "\n",
        "# Load the Titanic dataset\n",
        "titanic = sns.load_dataset('titanic')\n",
        "\n",
        "# Count missing values in each column\n",
        "missing_values = titanic.isnull().sum()\n",
        "print(missing_values)\n"
      ],
      "metadata": {
        "colab": {
          "base_uri": "https://localhost:8080/"
        },
        "id": "_ysArBdj6tKf",
        "outputId": "7d3b98bd-104d-4389-ca47-09a5c8bfe04c"
      },
      "execution_count": null,
      "outputs": [
        {
          "output_type": "stream",
          "name": "stdout",
          "text": [
            "survived         0\n",
            "pclass           0\n",
            "sex              0\n",
            "age            177\n",
            "sibsp            0\n",
            "parch            0\n",
            "fare             0\n",
            "embarked         2\n",
            "class            0\n",
            "who              0\n",
            "adult_male       0\n",
            "deck           688\n",
            "embark_town      2\n",
            "alive            0\n",
            "alone            0\n",
            "dtype: int64\n"
          ]
        }
      ]
    },
    {
      "cell_type": "markdown",
      "source": [
        "### **9.  Use df[\"Age\"].hist() to visualize the age distribution.**\n",
        "\n",
        " What shape do you see\n",
        "\n",
        "What might be the reason for the skew?"
      ],
      "metadata": {
        "id": "yay0RGDg61SC"
      }
    },
    {
      "cell_type": "code",
      "source": [
        "import matplotlib.pyplot as plt\n",
        "import seaborn as sns\n",
        "\n",
        "# Load the Titanic dataset\n",
        "titanic = sns.load_dataset('titanic')\n",
        "\n",
        "# Visualize the age distribution\n",
        "titanic['age'].hist(bins=20, edgecolor='black')\n",
        "plt.title('Age Distribution')\n",
        "plt.xlabel('Age')\n",
        "plt.ylabel('Frequency')\n",
        "plt.show()\n"
      ],
      "metadata": {
        "colab": {
          "base_uri": "https://localhost:8080/",
          "height": 472
        },
        "id": "XcnHNCOT7Y5I",
        "outputId": "2948f665-80e3-4dd3-add2-df7f376ee5ca"
      },
      "execution_count": null,
      "outputs": [
        {
          "output_type": "display_data",
          "data": {
            "text/plain": [
              "<Figure size 640x480 with 1 Axes>"
            ],
            "image/png": "[encoded data removed]"
          },
          "metadata": {}
        }
      ]
    },
    {
      "cell_type": "markdown",
      "source": [
        " What shape do you see\n",
        "\n",
        "\n",
        "***Answer***\n",
        "\n",
        "    The histogram likely shows a right-skewed distribution, meaning that the majority of passengers on the Titanic were younger, with a long tail extending toward older ages. This is common in many datasets involving populations of people, especially those related to historical events, where the majority of passengers may have been younger.\n",
        "What might be the reason for the skew?\n",
        "\n",
        "    Possible Reasons for Skew:\n",
        "\n",
        "        1. More Younger Passengers: Many more children and young adults could have been aboard the Titanic than elderly people, leading to a higher frequency of younger ages.\n",
        "\n",
        "        2. Missing Data or Imputation: If the \"Age\" column had missing data that was imputed or estimated (especially for older passengers), it might create distortions in the distribution.\n",
        "\n",
        "        3. Survival Bias: In some cases, certain age groups (like young children) may have had higher survival rates, which could affect the observed age distribution, especially when survival rates differ significantly by age.\n"
      ],
      "metadata": {
        "id": "hzBX7UGe7wbu"
      }
    },
    {
      "cell_type": "markdown",
      "source": [
        "### **10. What does it mean if a column has a high standard deviation?**\n",
        "\n",
        "  Create a list or column that has a low and a high std. dev, and compare.  "
      ],
      "metadata": {
        "id": "SDkwLdNm8msc"
      }
    },
    {
      "cell_type": "markdown",
      "source": [
        "***Answer***\n",
        "    \n",
        "    If a column has a high standard deviation, it means the values in that column are spread out widely from the mean — there's a lot of variability in the data. In contrast, a low standard deviation means the values are closely clustered around the mean, indicating more consistency or uniformity."
      ],
      "metadata": {
        "id": "HV_OuP9-8ynQ"
      }
    },
    {
      "cell_type": "code",
      "source": [
        "import pandas as pd\n",
        "import numpy as np\n",
        "\n",
        "# List with low standard deviation (values close to each other)\n",
        "low_std = [50, 51, 49, 50, 50, 49, 51, 50]\n",
        "\n",
        "# List with high standard deviation (values vary a lot)\n",
        "high_std = [10, 90, 50, 5, 100, 75, 20, 80]\n",
        "\n",
        "# Convert to a DataFrame for easy comparison\n",
        "df = pd.DataFrame({\n",
        "    'Low_STD': low_std,\n",
        "    'High_STD': high_std\n",
        "})\n",
        "\n",
        "# Calculate standard deviation for both columns\n",
        "std_devs = df.std()\n",
        "print(std_devs)\n"
      ],
      "metadata": {
        "colab": {
          "base_uri": "https://localhost:8080/"
        },
        "id": "1eUypiVf8_iD",
        "outputId": "18ef7bf3-eadd-4c78-8326-772f3994e040"
      },
      "execution_count": null,
      "outputs": [
        {
          "output_type": "stream",
          "name": "stdout",
          "text": [
            "Low_STD      0.755929\n",
            "High_STD    37.867249\n",
            "dtype: float64\n"
          ]
        }
      ]
    },
    {
      "cell_type": "markdown",
      "source": [
        "### 11. What are some real-world problems where missing data might affect results? Give 2 examples."
      ],
      "metadata": {
        "id": "SB-ZOiut9VVC"
      }
    },
    {
      "cell_type": "markdown",
      "source": [
        "***Answer***\n",
        "\n",
        "    Missing data can seriously impact the accuracy and fairness of analyses in many real-world situations.\n",
        "    \n",
        "***Here are two strong examples:***\n",
        "\n",
        "1. Medical Research / Healthcare Predictions\n",
        "\n",
        "Problem: Suppose researchers are studying the effectiveness of a new drug and patient records are missing key data like age, weight, or pre-existing conditions.\n",
        "\n",
        "Impact:\n",
        "\n",
        "    - Results might be biased if only healthier patients have complete records.\n",
        "\n",
        "    - Could lead to inaccurate conclusions about the drug’s effectiveness.\n",
        "\n",
        "    - May cause dangerous medical decisions if predictions are based on incomplete data.\n",
        "2. Credit Scoring / Loan Approvals\n",
        "\n",
        "Problem: A bank uses machine learning to assess loan eligibility, but some applicants have missing income or employment history.\n",
        "\n",
        "Impact:\n",
        "\n",
        "    - The model might misclassify people (e.g., denying loans to trustworthy applicants).\n",
        "\n",
        "    - Could introduce unfair bias if certain groups (like gig workers or young adults) are more likely to have missing data.\n",
        "\n",
        "    - Might lead to regulatory issues around fairness and discrimination."
      ],
      "metadata": {
        "id": "ScXaN7829c4g"
      }
    }
  ]
}